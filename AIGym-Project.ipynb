{
 "cells": [
  {
   "cell_type": "code",
   "execution_count": 1,
   "metadata": {},
   "outputs": [],
   "source": [
    "import numpy as np\n",
    "import gym\n",
    "import random\n",
    "import time\n",
    "from IPython.display import clear_output"
   ]
  },
  {
   "cell_type": "code",
   "execution_count": 2,
   "metadata": {},
   "outputs": [],
   "source": [
    "env = gym.make(\"FrozenLake-v0\")\n",
    "# S--> Agent's starting point safe  -- 0 reward\n",
    "# F--> Frozen surface safe -- 0 reward\n",
    "# H--> Hole game over -- 0 reward\n",
    "# G--> Goal game over -- 1 reward"
   ]
  },
  {
   "cell_type": "code",
   "execution_count": 3,
   "metadata": {},
   "outputs": [
    {
     "name": "stdout",
     "output_type": "stream",
     "text": [
      "[[0. 0. 0. 0.]\n",
      " [0. 0. 0. 0.]\n",
      " [0. 0. 0. 0.]\n",
      " [0. 0. 0. 0.]\n",
      " [0. 0. 0. 0.]\n",
      " [0. 0. 0. 0.]\n",
      " [0. 0. 0. 0.]\n",
      " [0. 0. 0. 0.]\n",
      " [0. 0. 0. 0.]\n",
      " [0. 0. 0. 0.]\n",
      " [0. 0. 0. 0.]\n",
      " [0. 0. 0. 0.]\n",
      " [0. 0. 0. 0.]\n",
      " [0. 0. 0. 0.]\n",
      " [0. 0. 0. 0.]\n",
      " [0. 0. 0. 0.]]\n"
     ]
    }
   ],
   "source": [
    "action_space_size = env.action_space.n\n",
    "state_space_size = env.observation_space.n\n",
    "\n",
    "q_table = np.zeros((state_space_size, action_space_size))\n",
    "print(q_table)"
   ]
  },
  {
   "cell_type": "markdown",
   "metadata": {},
   "source": [
    "# Training Phase"
   ]
  },
  {
   "cell_type": "markdown",
   "metadata": {},
   "source": [
    "## Algorithm Parameters"
   ]
  },
  {
   "cell_type": "code",
   "execution_count": 4,
   "metadata": {},
   "outputs": [],
   "source": [
    "num_episodes = 10000 ## Number of episodes we want our agent to play\n",
    "## during training\n",
    "max_steps_per_episode = 100 ## If the agent hasn't reached the frisbie\n",
    "## or fell into the water by the 100th step then the episode will terminate\n",
    "## with the agent recieving zero points\n",
    "\n",
    "\n",
    "learning_rate = 0.1\n",
    "discount_rate = 0.99\n",
    "\n",
    "exploration_rate = 1\n",
    "max_exploration_rate = 1\n",
    "min_exploration_rate = 0.1\n",
    "exploration_decay_rate = 0.0001"
   ]
  },
  {
   "cell_type": "code",
   "execution_count": 5,
   "metadata": {},
   "outputs": [
    {
     "name": "stdout",
     "output_type": "stream",
     "text": [
      "********Average reward per thousand episodes********\n",
      "\n",
      "1000 :  0.015000000000000006\n",
      "2000 :  0.01800000000000001\n",
      "3000 :  0.023000000000000013\n",
      "4000 :  0.027000000000000017\n",
      "5000 :  0.03400000000000002\n",
      "6000 :  0.037000000000000026\n",
      "7000 :  0.05500000000000004\n",
      "8000 :  0.047000000000000035\n",
      "9000 :  0.07100000000000005\n",
      "10000 :  0.08800000000000006\n",
      "\n",
      "\n",
      "********Q-table********\n",
      "\n",
      "[[0.59889362 0.56660652 0.57093472 0.56282814]\n",
      " [0.30907865 0.29539145 0.26325525 0.55094983]\n",
      " [0.47413043 0.46500506 0.45524475 0.50342305]\n",
      " [0.36019994 0.29257958 0.27772255 0.48093252]\n",
      " [0.62569061 0.49134817 0.42894338 0.33212295]\n",
      " [0.         0.         0.         0.        ]\n",
      " [0.31330604 0.25184039 0.46192399 0.09954726]\n",
      " [0.         0.         0.         0.        ]\n",
      " [0.48078771 0.45987566 0.45764778 0.65073592]\n",
      " [0.3722082  0.70783842 0.53331754 0.40806695]\n",
      " [0.69767085 0.40142369 0.44400852 0.26190211]\n",
      " [0.         0.         0.         0.        ]\n",
      " [0.         0.         0.         0.        ]\n",
      " [0.44606721 0.56033623 0.77872868 0.53981919]\n",
      " [0.80796024 0.89528203 0.83190943 0.7528129 ]\n",
      " [0.         0.         0.         0.        ]]\n"
     ]
    }
   ],
   "source": [
    "rewards_all_episodes = [] ## To see how our game scores change over time\n",
    "\n",
    "# Q-learning algorithm\n",
    "\n",
    "for episode in range(num_episodes):\n",
    "    state = env.reset() ## for each episode we will reset the state of the environment back to the starting state\n",
    "    \n",
    "    done = False ## Used to check if our episode is finished or not\n",
    "    rewards_current_episode = 0 ## to record the reward for the current episode\n",
    "    \n",
    "    for step in range(max_steps_per_episode): ## for loop for each timestep within an episode\n",
    "        #Exploration-exploitation trade-off\n",
    "        exploration_rate_threshold = random.uniform(0,1)\n",
    "        if exploration_rate_threshold > exploration_rate:\n",
    "            action = np.argmax(q_table[state,:]) ## agent chooses action with highest q-value for the current state\n",
    "        else:\n",
    "            action = env.action_space.sample() ## agent will explore the environment and sample an action randomly\n",
    "        new_state, reward, done, info = env.step(action)\n",
    "        #We take the action by calling step on the env-object and pass our action to it\n",
    "        #step() returns a tuple containing the new_state, the reward, whether or not the action ended the episode(done)\n",
    "        #and some diagnostic information regarding our environment\n",
    "        \n",
    "        # Update Q-table for Q(s,a)\n",
    "        q_table[state, action] = q_table[state, action] * (1 - learning_rate) + \\\n",
    "            learning_rate * (reward + discount_rate * np.max(q_table[new_state, :]))\n",
    "        \n",
    "        state = new_state\n",
    "        rewards_current_episode += reward\n",
    "        \n",
    "        if done ==True:\n",
    "            break\n",
    "            \n",
    "    # Exploration rate decay\n",
    "    exploration_rate = min_exploration_rate + \\\n",
    "    (max_exploration_rate - min_exploration_rate) * np.exp(-exploration_decay_rate*episode)\n",
    "    rewards_all_episodes.append(rewards_current_episode)\n",
    "    \n",
    "#Calculate and print average reward per thousand episodes\n",
    "rewards_per_thousand_episodes = np.split(np.array(rewards_all_episodes), num_episodes/1000)\n",
    "count = 1000\n",
    "print(\"********Average reward per thousand episodes********\\n\")\n",
    "for r in rewards_per_thousand_episodes:\n",
    "    print(count,\": \",str(sum(r/1000)))\n",
    "    count+=1000\n",
    "#Print updates Q-table\n",
    "print(\"\\n\\n********Q-table********\\n\")\n",
    "print(q_table)"
   ]
  },
  {
   "cell_type": "markdown",
   "metadata": {},
   "source": [
    "# Testing Phase"
   ]
  },
  {
   "cell_type": "code",
   "execution_count": 6,
   "metadata": {},
   "outputs": [
    {
     "name": "stdout",
     "output_type": "stream",
     "text": [
      "  (Right)\n",
      "SFFF\n",
      "FHFH\n",
      "F\u001b[41mF\u001b[0mFH\n",
      "HFFG\n",
      "****You fell through a hole!****\n"
     ]
    }
   ],
   "source": [
    "for episode in range(3): ## We'll watch the agent play 3 episodes in total\n",
    "    state = env.reset()\n",
    "    done = False\n",
    "    print(\"*****EPISODE \", episode+1, \"*****\\n\\n\\n\\n\")\n",
    "    time.sleep(1)\n",
    "    \n",
    "    for step in range(max_steps_per_episode):\n",
    "        clear_output(wait=True)\n",
    "        env.render() ## render the current state of the agent to visually see the game grid\n",
    "        time.sleep(0.3)\n",
    "        \n",
    "        action= np.argmax(q_table[state,:])\n",
    "        new_state, reward, done, info = env.step(action)\n",
    "        \n",
    "        if done:\n",
    "            clear_output(wait=True)\n",
    "            env.render()\n",
    "            if reward == 1:\n",
    "                print(\"****You reached the goal!****\")\n",
    "                time.sleep(3)\n",
    "            else:\n",
    "                print(\"****You fell through a hole!****\")\n",
    "                time.sleep(3)\n",
    "            clear_output(wait=True)\n",
    "            break\n",
    "            \n",
    "        state = new_state\n",
    "env.close()"
   ]
  },
  {
   "cell_type": "code",
   "execution_count": null,
   "metadata": {},
   "outputs": [],
   "source": []
  }
 ],
 "metadata": {
  "kernelspec": {
   "display_name": "Python 3",
   "language": "python",
   "name": "python3"
  },
  "language_info": {
   "codemirror_mode": {
    "name": "ipython",
    "version": 3
   },
   "file_extension": ".py",
   "mimetype": "text/x-python",
   "name": "python",
   "nbconvert_exporter": "python",
   "pygments_lexer": "ipython3",
   "version": "3.7.4"
  }
 },
 "nbformat": 4,
 "nbformat_minor": 2
}
